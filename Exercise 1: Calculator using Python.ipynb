{
  "nbformat": 4,
  "nbformat_minor": 0,
  "metadata": {
    "colab": {
      "provenance": [],
      "authorship_tag": "ABX9TyMGYwffdA6yuiCOM9RExz1V",
      "include_colab_link": true
    },
    "kernelspec": {
      "name": "python3",
      "display_name": "Python 3"
    },
    "language_info": {
      "name": "python"
    }
  },
  "cells": [
    {
      "cell_type": "markdown",
      "metadata": {
        "id": "view-in-github",
        "colab_type": "text"
      },
      "source": [
        "<a href=\"https://colab.research.google.com/github/xdityxrxne/100daysofCodeChallenge/blob/main/Exercise%201%3A%20Calculator%20using%20Python.ipynb\" target=\"_parent\"><img src=\"https://colab.research.google.com/assets/colab-badge.svg\" alt=\"Open In Colab\"/></a>"
      ]
    },
    {
      "cell_type": "code",
      "execution_count": 8,
      "metadata": {
        "colab": {
          "base_uri": "https://localhost:8080/"
        },
        "id": "j311DTYvM_Qx",
        "outputId": "b9b0cb16-4dbe-4157-eea5-2d1da0f8e66a"
      },
      "outputs": [
        {
          "output_type": "stream",
          "name": "stdout",
          "text": [
            "Enter what operation you want to perform:\n",
            "1. Addition\n",
            "2. Subtraction\n",
            "3. Multiplication\n",
            "4. Division\n",
            "1\n",
            "Enter 1st number: 3\n",
            "Enter 2nd number: 3\n",
            "Result: 6.0\n"
          ]
        }
      ],
      "source": [
        "def add(a, b):\n",
        "    return a + b\n",
        "\n",
        "def sub(a, b):\n",
        "    return a - b\n",
        "\n",
        "def multiply(a, b):\n",
        "    return a * b\n",
        "\n",
        "def divide(a, b):\n",
        "    if b == 0:\n",
        "        return \"Cannot divide by zero\"\n",
        "    return a / b\n",
        "\n",
        "def main():\n",
        "    choice = int(input(\"Enter what operation you want to perform:\\n1. Addition\\n2. Subtraction\\n3. Multiplication\\n4. Division\\n\"))\n",
        "    a = float(input(\"Enter 1st number: \"))\n",
        "    b = float(input(\"Enter 2nd number: \"))\n",
        "\n",
        "    if choice == 1:\n",
        "        result = add(a, b)\n",
        "        print(\"Result:\", result)\n",
        "    elif choice == 2:\n",
        "        result = sub(a, b)\n",
        "        print(\"Result:\", result)\n",
        "    elif choice == 3:\n",
        "        result = multiply(a, b)\n",
        "        print(\"Result:\", result)\n",
        "    elif choice == 4:\n",
        "        result = divide(a, b)\n",
        "        print(\"Result:\", result)\n",
        "    else:\n",
        "        print(\"Invalid choice\")\n",
        "\n",
        "if __name__ == \"__main__\":\n",
        "    main()\n",
        "\n"
      ]
    },
    {
      "cell_type": "code",
      "source": [],
      "metadata": {
        "id": "Z9xrCW4OOXFM"
      },
      "execution_count": null,
      "outputs": []
    }
  ]
}